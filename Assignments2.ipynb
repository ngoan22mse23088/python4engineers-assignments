{
  "nbformat": 4,
  "nbformat_minor": 0,
  "metadata": {
    "colab": {
      "provenance": [],
      "authorship_tag": "ABX9TyOMO1Krv3KZHY+9RcbWzrtm",
      "include_colab_link": true
    },
    "kernelspec": {
      "name": "python3",
      "display_name": "Python 3"
    },
    "language_info": {
      "name": "python"
    }
  },
  "cells": [
    {
      "cell_type": "markdown",
      "metadata": {
        "id": "view-in-github",
        "colab_type": "text"
      },
      "source": [
        "<a href=\"https://colab.research.google.com/github/ngoan22mse23088/python4engineers-assignments/blob/master/Assignments2.ipynb\" target=\"_parent\"><img src=\"https://colab.research.google.com/assets/colab-badge.svg\" alt=\"Open In Colab\"/></a>"
      ]
    },
    {
      "cell_type": "code",
      "source": [
        "!pip install flask\n",
        "!pip install flask-mysqldb"
      ],
      "metadata": {
        "id": "qW-WO47vHQQr"
      },
      "execution_count": null,
      "outputs": []
    },
    {
      "cell_type": "code",
      "source": [
        "from flask import Flask, render_template, request, redirect, url_for\n",
        "from flask_mysqldb import MySQL\n",
        "\n",
        "app = Flask(__name__)\n",
        "\n",
        "# Cấu hình kết nối cơ sở dữ liệu MySQL\n",
        "app.config['MYSQL_HOST'] = 'localhost'\n",
        "app.config['MYSQL_USER'] = 'root'\n",
        "app.config['MYSQL_PASSWORD'] = 'root'\n",
        "app.config['MYSQL_DB'] = 'mydatabase'\n",
        "\n",
        "# Khởi tạo đối tượng MySQL\n",
        "mysql = MySQL(app)\n",
        "\n",
        "\n",
        "# Trang chủ hiển thị danh sách bài viết\n",
        "@app.route('/')\n",
        "def index():\n",
        "    cur = mysql.connection.cursor()\n",
        "    cur.execute(\"SELECT * FROM posts\")\n",
        "    posts = cur.fetchall()\n",
        "    cur.close()\n",
        "    return render_template('index.html', posts=posts)\n",
        "\n",
        "\n",
        "# Trang tạo bài viết\n",
        "@app.route('/create', methods=['GET', 'POST'])\n",
        "def create():\n",
        "    if request.method == 'POST':\n",
        "        title = request.form['title']\n",
        "        content = request.form['content']\n",
        "        cur = mysql.connection.cursor()\n",
        "        cur.execute(\"INSERT INTO posts (title, content) VALUES (%s, %s)\", (title, content))\n",
        "        mysql.connection.commit()\n",
        "        cur.close()\n",
        "        return redirect(url_for('index'))\n",
        "    return render_template('create.html')\n",
        "\n",
        "\n",
        "# Trang cập nhật bài viết\n",
        "@app.route('/edit/<int:id>', methods=['GET', 'POST'])\n",
        "def update(id):\n",
        "    cur = mysql.connection.cursor()\n",
        "    cur.execute(\"SELECT * FROM posts WHERE id = %s\", (id,))\n",
        "    post = cur.fetchone()\n",
        "    cur.close()\n",
        "    if request.method == 'POST':\n",
        "        title = request.form['title']\n",
        "        content = request.form['content']\n",
        "        cur = mysql.connection.cursor()\n",
        "        cur.execute(\"UPDATE posts SET title = %s, content = %s WHERE id = %s\", (title, content, id))\n",
        "        mysql.connection.commit()\n",
        "        cur.close()\n",
        "        return redirect(url_for('index'))\n",
        "    return render_template('edit.html', post=post)\n",
        "\n",
        "\n",
        "# Trang xóa bài viết\n",
        "@app.route('/delete/<int:id>', methods=['POST'])\n",
        "def delete(id):\n",
        "    cur = mysql.connection.cursor()\n",
        "    cur.execute(\"DELETE FROM posts WHERE id = %s\", (id,))\n",
        "    mysql.connection.commit()\n",
        "    cur.close()\n",
        "    return redirect(url_for('index'))\n",
        "\n",
        "\n",
        "if __name__ == '__main__':\n",
        "    app.run(debug=True)\n"
      ],
      "metadata": {
        "id": "6WFeM_f6KCW_"
      },
      "execution_count": null,
      "outputs": []
    }
  ]
}