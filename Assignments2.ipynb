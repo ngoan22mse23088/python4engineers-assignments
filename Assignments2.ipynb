{
  "nbformat": 4,
  "nbformat_minor": 0,
  "metadata": {
    "colab": {
      "provenance": [],
      "authorship_tag": "ABX9TyO5btgIrJM8I1ptUKh0LpW2",
      "include_colab_link": true
    },
    "kernelspec": {
      "name": "python3",
      "display_name": "Python 3"
    },
    "language_info": {
      "name": "python"
    }
  },
  "cells": [
    {
      "cell_type": "markdown",
      "metadata": {
        "id": "view-in-github",
        "colab_type": "text"
      },
      "source": [
        "<a href=\"https://colab.research.google.com/github/ngoan22mse23088/python4engineers-assignments/blob/master/Assignments2.ipynb\" target=\"_parent\"><img src=\"https://colab.research.google.com/assets/colab-badge.svg\" alt=\"Open In Colab\"/></a>"
      ]
    },
    {
      "cell_type": "code",
      "source": [
        "!pip install mysql-connector-python\n",
        "!apt-get install mysql-server > /dev/null\n",
        "!service mysql start\n",
        "\n",
        "!mysql -u root -p -e \"SELECT 'Connected';\"\n",
        "!mysql -u root -p -e \"CREATE DATABASE mydatabase;\"\n",
        "!mysql -u root -p -e \"CREATE USER 'root'@'localhost' IDENTIFIED BY 'root';\"\n",
        "!mysql -u root -p -e \"GRANT ALL PRIVILEGES ON mydatabase.* TO 'root'@'localhost';\"\n",
        "!mysql -u root -p -e \"SELECT User FROM mysql.user;\"\n",
        "!mysql -u root -p -e \"SHOW DATABASES;\"\n",
        "!mysql -u root -p -e \"ALTER USER 'root'@'localhost' IDENTIFIED WITH mysql_native_password BY 'root';\""
      ],
      "metadata": {
        "id": "6WFeM_f6KCW_"
      },
      "execution_count": null,
      "outputs": []
    },
    {
      "cell_type": "code",
      "source": [
        "import mysql.connector\n",
        "\n",
        "# Kết nối đến database vừa tạo\n",
        "mydb = mysql.connector.connect(\n",
        "  host=\"localhost\",\n",
        "  user=\"root\",\n",
        "  password=\"root\",\n",
        "  database=\"mydatabase\"\n",
        ")\n",
        "\n",
        "# Tạo database\n",
        "mycursor = mydb.cursor()\n",
        "# mycursor.execute(\"CREATE TABLE posts (id int NOT NULL AUTO_INCREMENT,created TIMESTAMP DEFAULT CURRENT_TIMESTAMP NOT NULL,title varchar(255),content varchar(255),PRIMARY KEY (id));\")\n",
        "mycursor.execute(\"SELECT * FROM posts\")\n",
        "myresult = mycursor.fetchall()\n",
        "for x in myresult:\n",
        "  print(x)\n",
        "print(\"completed\")"
      ],
      "metadata": {
        "id": "jpNjTMdZaYi1"
      },
      "execution_count": null,
      "outputs": []
    },
    {
      "cell_type": "code",
      "source": [
        "!pip install flask flask_mysqldb"
      ],
      "metadata": {
        "id": "prhcUAB3aev2"
      },
      "execution_count": null,
      "outputs": []
    },
    {
      "cell_type": "code",
      "source": [
        "from flask import Flask, render_template, request, redirect, url_for\n",
        "from flask_mysqldb import MySQL\n",
        "\n",
        "app = Flask(__name__)\n",
        "\n",
        "# Cấu hình kết nối cơ sở dữ liệu MySQL\n",
        "app.config['MYSQL_HOST'] = 'localhost'\n",
        "app.config['MYSQL_USER'] = 'root'\n",
        "app.config['MYSQL_PASSWORD'] = 'root'\n",
        "app.config['MYSQL_DB'] = 'mydatabase'\n",
        "\n",
        "# Khởi tạo đối tượng MySQL\n",
        "mysql = MySQL(app)\n",
        "\n",
        "\n",
        "# Trang chủ hiển thị danh sách bài viết\n",
        "@app.route('/')\n",
        "def index():\n",
        "    cur = mysql.connection.cursor()\n",
        "    cur.execute(\"SELECT * FROM posts\")\n",
        "    posts = cur.fetchall()\n",
        "    cur.close()\n",
        "    return render_template('index.html', posts=posts)\n",
        "\n",
        "\n",
        "# Trang tạo bài viết\n",
        "@app.route('/create', methods=['GET', 'POST'])\n",
        "def create():\n",
        "    if request.method == 'POST':\n",
        "        title = request.form['title']\n",
        "        content = request.form['content']\n",
        "        cur = mysql.connection.cursor()\n",
        "        cur.execute(\"INSERT INTO posts (title, content) VALUES (%s, %s)\", (title, content))\n",
        "        mysql.connection.commit()\n",
        "        cur.close()\n",
        "        return redirect(url_for('index'))\n",
        "    return render_template('create.html')\n",
        "\n",
        "\n",
        "# Trang cập nhật bài viết\n",
        "@app.route('/edit/<int:id>', methods=['GET', 'POST'])\n",
        "def update(id):\n",
        "    cur = mysql.connection.cursor()\n",
        "    cur.execute(\"SELECT * FROM posts WHERE id = %s\", (id,))\n",
        "    post = cur.fetchone()\n",
        "    cur.close()\n",
        "    if request.method == 'POST':\n",
        "        title = request.form['title']\n",
        "        content = request.form['content']\n",
        "        cur = mysql.connection.cursor()\n",
        "        cur.execute(\"UPDATE posts SET title = %s, content = %s WHERE id = %s\", (title, content, id))\n",
        "        mysql.connection.commit()\n",
        "        cur.close()\n",
        "        return redirect(url_for('index'))\n",
        "    return render_template('edit.html', post=post)\n",
        "\n",
        "\n",
        "# Trang xóa bài viết\n",
        "@app.route('/delete/<int:id>', methods=['POST'])\n",
        "def delete(id):\n",
        "    cur = mysql.connection.cursor()\n",
        "    cur.execute(\"DELETE FROM posts WHERE id = %s\", (id,))\n",
        "    mysql.connection.commit()\n",
        "    cur.close()\n",
        "    return redirect(url_for('index'))\n",
        "\n",
        "\n",
        "if __name__ == '__main__':\n",
        "    app.run(debug=True)"
      ],
      "metadata": {
        "id": "LukY57jVZajR"
      },
      "execution_count": null,
      "outputs": []
    }
  ]
}