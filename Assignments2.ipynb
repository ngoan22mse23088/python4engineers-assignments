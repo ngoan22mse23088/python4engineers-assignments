{
  "cells": [
    {
      "cell_type": "markdown",
      "metadata": {
        "id": "view-in-github",
        "colab_type": "text"
      },
      "source": [
        "<a href=\"https://colab.research.google.com/github/ngoan22mse23088/python4engineers-assignments/blob/master/Assignments2.ipynb\" target=\"_parent\"><img src=\"https://colab.research.google.com/assets/colab-badge.svg\" alt=\"Open In Colab\"/></a>"
      ]
    },
    {
      "cell_type": "code",
      "execution_count": null,
      "metadata": {
        "id": "6WFeM_f6KCW_"
      },
      "outputs": [],
      "source": [
        "!pip install mysql-connector-python\n",
        "!apt-get install mysql-server > /dev/null\n",
        "!service mysql start\n",
        "\n",
        "!mysql -u root -p -e \"SELECT 'Connected';\"\n",
        "!mysql -u root -p -e \"CREATE DATABASE mydatabase;\"\n",
        "!mysql -u root -p -e \"CREATE USER 'root'@'localhost' IDENTIFIED BY 'root';\"\n",
        "!mysql -u root -p -e \"GRANT ALL PRIVILEGES ON mydatabase.* TO 'root'@'localhost';\"\n",
        "!mysql -u root -p -e \"SELECT User FROM mysql.user;\"\n",
        "!mysql -u root -p -e \"SHOW DATABASES;\"\n",
        "!mysql -u root -p -e \"ALTER USER 'root'@'localhost' IDENTIFIED WITH mysql_native_password BY 'root';\""
      ]
    },
    {
      "cell_type": "code",
      "execution_count": null,
      "metadata": {
        "id": "jpNjTMdZaYi1"
      },
      "outputs": [],
      "source": [
        "import mysql.connector\n",
        "\n",
        "# Kết nối đến database vừa tạo\n",
        "mydb = mysql.connector.connect(\n",
        "  host=\"localhost\",\n",
        "  user=\"root\",\n",
        "  password=\"root\",\n",
        "  database=\"mydatabase\"\n",
        ")\n",
        "\n",
        "# Tạo database\n",
        "mycursor = mydb.cursor()\n",
        "# mycursor.execute(\"CREATE TABLE posts (id int NOT NULL AUTO_INCREMENT,created TIMESTAMP DEFAULT CURRENT_TIMESTAMP NOT NULL,title varchar(255),content varchar(255),PRIMARY KEY (id));\")\n",
        "mycursor.execute(\"SELECT * FROM posts\")\n",
        "myresult = mycursor.fetchall()\n",
        "for x in myresult:\n",
        "  print(x)\n",
        "print(\"completed\")"
      ]
    },
    {
      "cell_type": "code",
      "execution_count": null,
      "metadata": {
        "id": "prhcUAB3aev2"
      },
      "outputs": [],
      "source": [
        "!pip install flask\n",
        "\n",
        "!pip install colabcode"
      ]
    },
    {
      "cell_type": "code",
      "source": [
        "!pip install flask_mysqldb"
      ],
      "metadata": {
        "colab": {
          "base_uri": "https://localhost:8080/"
        },
        "id": "5glRk74Ggc5x",
        "outputId": "533dc1f6-f1a7-4121-ef87-35d58ffde70e"
      },
      "execution_count": 2,
      "outputs": [
        {
          "output_type": "stream",
          "name": "stdout",
          "text": [
            "Looking in indexes: https://pypi.org/simple, https://us-python.pkg.dev/colab-wheels/public/simple/\n",
            "Collecting flask_mysqldb\n",
            "  Downloading Flask-MySQLdb-1.0.1.tar.gz (4.3 kB)\n",
            "  Preparing metadata (setup.py) ... \u001b[?25l\u001b[?25hdone\n",
            "Requirement already satisfied: Flask>=0.12.4 in /usr/local/lib/python3.9/dist-packages (from flask_mysqldb) (2.2.3)\n",
            "Collecting mysqlclient>=1.3.7\n",
            "  Downloading mysqlclient-2.1.1.tar.gz (88 kB)\n",
            "\u001b[2K     \u001b[90m━━━━━━━━━━━━━━━━━━━━━━━━━━━━━━━━━━━━━━━━\u001b[0m \u001b[32m88.1/88.1 KB\u001b[0m \u001b[31m9.9 MB/s\u001b[0m eta \u001b[36m0:00:00\u001b[0m\n",
            "\u001b[?25h  Preparing metadata (setup.py) ... \u001b[?25l\u001b[?25hdone\n",
            "Requirement already satisfied: Werkzeug>=2.2.2 in /usr/local/lib/python3.9/dist-packages (from Flask>=0.12.4->flask_mysqldb) (2.2.3)\n",
            "Collecting click>=8.0\n",
            "  Downloading click-8.1.3-py3-none-any.whl (96 kB)\n",
            "\u001b[2K     \u001b[90m━━━━━━━━━━━━━━━━━━━━━━━━━━━━━━━━━━━━━━━━\u001b[0m \u001b[32m96.6/96.6 KB\u001b[0m \u001b[31m15.2 MB/s\u001b[0m eta \u001b[36m0:00:00\u001b[0m\n",
            "\u001b[?25hRequirement already satisfied: importlib-metadata>=3.6.0 in /usr/local/lib/python3.9/dist-packages (from Flask>=0.12.4->flask_mysqldb) (6.1.0)\n",
            "Requirement already satisfied: itsdangerous>=2.0 in /usr/local/lib/python3.9/dist-packages (from Flask>=0.12.4->flask_mysqldb) (2.1.2)\n",
            "Requirement already satisfied: Jinja2>=3.0 in /usr/local/lib/python3.9/dist-packages (from Flask>=0.12.4->flask_mysqldb) (3.1.2)\n",
            "Requirement already satisfied: zipp>=0.5 in /usr/local/lib/python3.9/dist-packages (from importlib-metadata>=3.6.0->Flask>=0.12.4->flask_mysqldb) (3.15.0)\n",
            "Requirement already satisfied: MarkupSafe>=2.0 in /usr/local/lib/python3.9/dist-packages (from Jinja2>=3.0->Flask>=0.12.4->flask_mysqldb) (2.1.2)\n",
            "Building wheels for collected packages: flask_mysqldb, mysqlclient\n",
            "  Building wheel for flask_mysqldb (setup.py) ... \u001b[?25l\u001b[?25hdone\n",
            "  Created wheel for flask_mysqldb: filename=Flask_MySQLdb-1.0.1-py3-none-any.whl size=4673 sha256=8c38aef4ab0dfaee45d5f9ab2ccfe9d9db6e3d041c65fbb4e8676b2add0a5cfa\n",
            "  Stored in directory: /root/.cache/pip/wheels/48/ba/f7/32a9b364c18e9e479d5dd05305109e7a72d85d8e29c02a10ea\n",
            "  Building wheel for mysqlclient (setup.py) ... \u001b[?25l\u001b[?25hdone\n",
            "  Created wheel for mysqlclient: filename=mysqlclient-2.1.1-cp39-cp39-linux_x86_64.whl size=107583 sha256=5e76451dc490d290232a69ff5e285838dbd308590de51cbfe3a1dd59c4ae7ea6\n",
            "  Stored in directory: /root/.cache/pip/wheels/f3/a5/27/c6312d8008951cfd5511684378a9e057b82006c70e1fea6107\n",
            "Successfully built flask_mysqldb mysqlclient\n",
            "Installing collected packages: mysqlclient, click, flask_mysqldb\n",
            "  Attempting uninstall: click\n",
            "    Found existing installation: click 7.1.2\n",
            "    Uninstalling click-7.1.2:\n",
            "      Successfully uninstalled click-7.1.2\n",
            "\u001b[31mERROR: pip's dependency resolver does not currently take into account all the packages that are installed. This behaviour is the source of the following dependency conflicts.\n",
            "uvicorn 0.13.1 requires click==7.*, but you have click 8.1.3 which is incompatible.\u001b[0m\u001b[31m\n",
            "\u001b[0mSuccessfully installed click-8.1.3 flask_mysqldb-1.0.1 mysqlclient-2.1.1\n"
          ]
        }
      ]
    },
    {
      "cell_type": "code",
      "execution_count": 3,
      "metadata": {
        "colab": {
          "base_uri": "https://localhost:8080/",
          "height": 467
        },
        "id": "LukY57jVZajR",
        "outputId": "47364ae3-d8de-4459-d3ae-d4de64dc7249"
      },
      "outputs": [
        {
          "output_type": "stream",
          "name": "stdout",
          "text": [
            "Code Server can be accessed on: NgrokTunnel: \"https://ebf0-35-186-181-74.ngrok.io\" -> \"http://localhost:10000\"\n",
            "[2023-04-03T14:25:38.918Z] info  code-server 3.10.2 387b12ef4ca404ffd39d84834e1f0776e9e3c005\n",
            "[2023-04-03T14:25:38.919Z] info  Using user-data-dir ~/.local/share/code-server\n",
            "[2023-04-03T14:25:38.932Z] info  Using config file ~/.config/code-server/config.yaml\n",
            "[2023-04-03T14:25:38.932Z] info  HTTP server listening on http://127.0.0.1:10000 \n",
            "[2023-04-03T14:25:38.932Z] info    - Authentication is disabled \n",
            "[2023-04-03T14:25:38.933Z] info    - Not serving HTTPS \n"
          ]
        },
        {
          "output_type": "error",
          "ename": "KeyboardInterrupt",
          "evalue": "ignored",
          "traceback": [
            "\u001b[0;31m---------------------------------------------------------------------------\u001b[0m",
            "\u001b[0;31mKeyboardInterrupt\u001b[0m                         Traceback (most recent call last)",
            "\u001b[0;32m<ipython-input-3-5e801bd7b0c2>\u001b[0m in \u001b[0;36m<cell line: 69>\u001b[0;34m()\u001b[0m\n\u001b[1;32m     68\u001b[0m \u001b[0;34m\u001b[0m\u001b[0m\n\u001b[1;32m     69\u001b[0m \u001b[0;32mif\u001b[0m \u001b[0m__name__\u001b[0m \u001b[0;34m==\u001b[0m \u001b[0;34m'__main__'\u001b[0m\u001b[0;34m:\u001b[0m\u001b[0;34m\u001b[0m\u001b[0;34m\u001b[0m\u001b[0m\n\u001b[0;32m---> 70\u001b[0;31m     \u001b[0mColabCode\u001b[0m\u001b[0;34m(\u001b[0m\u001b[0mport\u001b[0m\u001b[0;34m=\u001b[0m\u001b[0;36m10000\u001b[0m\u001b[0;34m,\u001b[0m \u001b[0mpassword\u001b[0m\u001b[0;34m=\u001b[0m\u001b[0;32mNone\u001b[0m\u001b[0;34m)\u001b[0m\u001b[0;34m.\u001b[0m\u001b[0mrun_app\u001b[0m\u001b[0;34m(\u001b[0m\u001b[0;34m)\u001b[0m\u001b[0;34m\u001b[0m\u001b[0;34m\u001b[0m\u001b[0m\n\u001b[0m",
            "\u001b[0;32m/usr/local/lib/python3.9/dist-packages/colabcode/code.py\u001b[0m in \u001b[0;36m__init__\u001b[0;34m(self, port, password, authtoken, mount_drive, code, lab)\u001b[0m\n\u001b[1;32m     43\u001b[0m             \u001b[0mself\u001b[0m\u001b[0;34m.\u001b[0m\u001b[0m_install_extensions\u001b[0m\u001b[0;34m(\u001b[0m\u001b[0;34m)\u001b[0m\u001b[0;34m\u001b[0m\u001b[0;34m\u001b[0m\u001b[0m\n\u001b[1;32m     44\u001b[0m             \u001b[0mself\u001b[0m\u001b[0;34m.\u001b[0m\u001b[0m_start_server\u001b[0m\u001b[0;34m(\u001b[0m\u001b[0;34m)\u001b[0m\u001b[0;34m\u001b[0m\u001b[0;34m\u001b[0m\u001b[0m\n\u001b[0;32m---> 45\u001b[0;31m             \u001b[0mself\u001b[0m\u001b[0;34m.\u001b[0m\u001b[0m_run_code\u001b[0m\u001b[0;34m(\u001b[0m\u001b[0;34m)\u001b[0m\u001b[0;34m\u001b[0m\u001b[0;34m\u001b[0m\u001b[0m\n\u001b[0m\u001b[1;32m     46\u001b[0m \u001b[0;34m\u001b[0m\u001b[0m\n\u001b[1;32m     47\u001b[0m     \u001b[0;34m@\u001b[0m\u001b[0mstaticmethod\u001b[0m\u001b[0;34m\u001b[0m\u001b[0;34m\u001b[0m\u001b[0m\n",
            "\u001b[0;32m/usr/local/lib/python3.9/dist-packages/colabcode/code.py\u001b[0m in \u001b[0;36m_run_code\u001b[0;34m(self)\u001b[0m\n\u001b[1;32m    108\u001b[0m             \u001b[0muniversal_newlines\u001b[0m\u001b[0;34m=\u001b[0m\u001b[0;32mTrue\u001b[0m\u001b[0;34m,\u001b[0m\u001b[0;34m\u001b[0m\u001b[0;34m\u001b[0m\u001b[0m\n\u001b[1;32m    109\u001b[0m         ) as proc:\n\u001b[0;32m--> 110\u001b[0;31m             \u001b[0;32mfor\u001b[0m \u001b[0mline\u001b[0m \u001b[0;32min\u001b[0m \u001b[0mproc\u001b[0m\u001b[0;34m.\u001b[0m\u001b[0mstdout\u001b[0m\u001b[0;34m:\u001b[0m\u001b[0;34m\u001b[0m\u001b[0;34m\u001b[0m\u001b[0m\n\u001b[0m\u001b[1;32m    111\u001b[0m                 \u001b[0mprint\u001b[0m\u001b[0;34m(\u001b[0m\u001b[0mline\u001b[0m\u001b[0;34m,\u001b[0m \u001b[0mend\u001b[0m\u001b[0;34m=\u001b[0m\u001b[0;34m\"\"\u001b[0m\u001b[0;34m)\u001b[0m\u001b[0;34m\u001b[0m\u001b[0;34m\u001b[0m\u001b[0m\n\u001b[1;32m    112\u001b[0m \u001b[0;34m\u001b[0m\u001b[0m\n",
            "\u001b[0;31mKeyboardInterrupt\u001b[0m: "
          ]
        }
      ],
      "source": [
        "from flask import Flask, render_template, request, redirect, url_for\n",
        "from flask_mysqldb import MySQL\n",
        "from colabcode import ColabCode\n",
        "\n",
        "app = Flask(__name__)\n",
        "\n",
        "# Cấu hình kết nối cơ sở dữ liệu MySQL\n",
        "app.config['MYSQL_HOST'] = 'localhost'\n",
        "app.config['MYSQL_USER'] = 'root'\n",
        "app.config['MYSQL_PASSWORD'] = 'root'\n",
        "app.config['MYSQL_DB'] = 'mydatabase'\n",
        "\n",
        "# Khởi tạo đối tượng MySQL\n",
        "mysql = MySQL(app)\n",
        "\n",
        "\n",
        "# Trang chủ hiển thị danh sách bài viết\n",
        "@app.route('/')\n",
        "def index():\n",
        "    cur = mysql.connection.cursor()\n",
        "    cur.execute(\"SELECT * FROM posts\")\n",
        "    posts = cur.fetchall()\n",
        "    cur.close()\n",
        "    return render_template('index.html', posts=posts)\n",
        "\n",
        "\n",
        "# Trang tạo bài viết\n",
        "@app.route('/create', methods=['GET', 'POST'])\n",
        "def create():\n",
        "    if request.method == 'POST':\n",
        "        title = request.form['title']\n",
        "        content = request.form['content']\n",
        "        cur = mysql.connection.cursor()\n",
        "        cur.execute(\"INSERT INTO posts (title, content) VALUES (%s, %s)\", (title, content))\n",
        "        mysql.connection.commit()\n",
        "        cur.close()\n",
        "        return redirect(url_for('index'))\n",
        "    return render_template('create.html')\n",
        "\n",
        "\n",
        "# Trang cập nhật bài viết\n",
        "@app.route('/edit/<int:id>', methods=['GET', 'POST'])\n",
        "def update(id):\n",
        "    cur = mysql.connection.cursor()\n",
        "    cur.execute(\"SELECT * FROM posts WHERE id = %s\", (id,))\n",
        "    post = cur.fetchone()\n",
        "    cur.close()\n",
        "    if request.method == 'POST':\n",
        "        title = request.form['title']\n",
        "        content = request.form['content']\n",
        "        cur = mysql.connection.cursor()\n",
        "        cur.execute(\"UPDATE posts SET title = %s, content = %s WHERE id = %s\", (title, content, id))\n",
        "        mysql.connection.commit()\n",
        "        cur.close()\n",
        "        return redirect(url_for('index'))\n",
        "    return render_template('edit.html', post=post)\n",
        "\n",
        "\n",
        "# Trang xóa bài viết\n",
        "@app.route('/delete/<int:id>', methods=['POST'])\n",
        "def delete(id):\n",
        "    cur = mysql.connection.cursor()\n",
        "    cur.execute(\"DELETE FROM posts WHERE id = %s\", (id,))\n",
        "    mysql.connection.commit()\n",
        "    cur.close()\n",
        "    return redirect(url_for('index'))\n",
        "\n",
        "\n",
        "if __name__ == '__main__':\n",
        "    ColabCode(port=10000, password=None).run_app()"
      ]
    }
  ],
  "metadata": {
    "colab": {
      "provenance": [],
      "authorship_tag": "ABX9TyMB3TxAS8nOFK2pXoWVemky",
      "include_colab_link": true
    },
    "kernelspec": {
      "display_name": "Python 3",
      "name": "python3"
    },
    "language_info": {
      "name": "python"
    }
  },
  "nbformat": 4,
  "nbformat_minor": 0
}